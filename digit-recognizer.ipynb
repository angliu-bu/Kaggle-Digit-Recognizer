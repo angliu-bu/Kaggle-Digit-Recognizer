{
 "cells": [
  {
   "cell_type": "code",
   "execution_count": 1,
   "id": "50078d09",
   "metadata": {
    "execution": {
     "iopub.execute_input": "2021-10-17T18:47:57.633081Z",
     "iopub.status.busy": "2021-10-17T18:47:57.631007Z",
     "iopub.status.idle": "2021-10-17T18:48:04.250786Z",
     "shell.execute_reply": "2021-10-17T18:48:04.250015Z",
     "shell.execute_reply.started": "2021-09-15T14:29:29.225352Z"
    },
    "papermill": {
     "duration": 6.640907,
     "end_time": "2021-10-17T18:48:04.250983",
     "exception": false,
     "start_time": "2021-10-17T18:47:57.610076",
     "status": "completed"
    },
    "tags": []
   },
   "outputs": [],
   "source": [
    "import pandas as pd\n",
    "mnist_test = pd.read_csv(\"../input/mnist-in-csv/mnist_test.csv\")\n",
    "mnist_train = pd.read_csv(\"../input/mnist-in-csv/mnist_train.csv\")"
   ]
  },
  {
   "cell_type": "code",
   "execution_count": 2,
   "id": "0d9f8d51",
   "metadata": {
    "execution": {
     "iopub.execute_input": "2021-10-17T18:48:04.276062Z",
     "iopub.status.busy": "2021-10-17T18:48:04.275223Z",
     "iopub.status.idle": "2021-10-17T18:48:09.828788Z",
     "shell.execute_reply": "2021-10-17T18:48:09.829601Z",
     "shell.execute_reply.started": "2021-09-15T14:29:32.771864Z"
    },
    "papermill": {
     "duration": 5.569101,
     "end_time": "2021-10-17T18:48:09.829939",
     "exception": false,
     "start_time": "2021-10-17T18:48:04.260838",
     "status": "completed"
    },
    "tags": []
   },
   "outputs": [],
   "source": [
    "submission = pd.read_csv(\"../input/digit-recognizer/sample_submission.csv\")\n",
    "test = pd.read_csv(\"../input/digit-recognizer/test.csv\")\n",
    "train = pd.read_csv(\"../input/digit-recognizer/train.csv\")"
   ]
  },
  {
   "cell_type": "code",
   "execution_count": 3,
   "id": "8211e49f",
   "metadata": {
    "execution": {
     "iopub.execute_input": "2021-10-17T18:48:09.863595Z",
     "iopub.status.busy": "2021-10-17T18:48:09.861717Z",
     "iopub.status.idle": "2021-10-17T18:48:09.864394Z",
     "shell.execute_reply": "2021-10-17T18:48:09.864957Z",
     "shell.execute_reply.started": "2021-09-15T14:29:37.198162Z"
    },
    "papermill": {
     "duration": 0.019698,
     "end_time": "2021-10-17T18:48:09.865144",
     "exception": false,
     "start_time": "2021-10-17T18:48:09.845446",
     "status": "completed"
    },
    "tags": []
   },
   "outputs": [],
   "source": [
    "cols = test.columns"
   ]
  },
  {
   "cell_type": "code",
   "execution_count": 4,
   "id": "b7aa2981",
   "metadata": {
    "execution": {
     "iopub.execute_input": "2021-10-17T18:48:09.896002Z",
     "iopub.status.busy": "2021-10-17T18:48:09.894984Z",
     "iopub.status.idle": "2021-10-17T18:48:09.903527Z",
     "shell.execute_reply": "2021-10-17T18:48:09.902965Z",
     "shell.execute_reply.started": "2021-09-15T14:29:37.20282Z"
    },
    "papermill": {
     "duration": 0.028561,
     "end_time": "2021-10-17T18:48:09.903681",
     "exception": false,
     "start_time": "2021-10-17T18:48:09.875120",
     "status": "completed"
    },
    "tags": []
   },
   "outputs": [],
   "source": [
    "test['dataset'] = 'test'\n",
    "train['dataset'] = 'train'"
   ]
  },
  {
   "cell_type": "code",
   "execution_count": 5,
   "id": "bcc062c1",
   "metadata": {
    "execution": {
     "iopub.execute_input": "2021-10-17T18:48:10.046640Z",
     "iopub.status.busy": "2021-10-17T18:48:10.045614Z",
     "iopub.status.idle": "2021-10-17T18:48:10.429071Z",
     "shell.execute_reply": "2021-10-17T18:48:10.429666Z",
     "shell.execute_reply.started": "2021-09-15T14:29:37.229487Z"
    },
    "papermill": {
     "duration": 0.515983,
     "end_time": "2021-10-17T18:48:10.429893",
     "exception": false,
     "start_time": "2021-10-17T18:48:09.913910",
     "status": "completed"
    },
    "tags": []
   },
   "outputs": [],
   "source": [
    "dataset = pd.concat([train.drop('label', axis=1), test]).reset_index()"
   ]
  },
  {
   "cell_type": "code",
   "execution_count": 6,
   "id": "944e270d",
   "metadata": {
    "execution": {
     "iopub.execute_input": "2021-10-17T18:48:10.458023Z",
     "iopub.status.busy": "2021-10-17T18:48:10.457287Z",
     "iopub.status.idle": "2021-10-17T18:48:11.155025Z",
     "shell.execute_reply": "2021-10-17T18:48:11.155533Z",
     "shell.execute_reply.started": "2021-09-15T14:29:37.720898Z"
    },
    "papermill": {
     "duration": 0.716121,
     "end_time": "2021-10-17T18:48:11.155767",
     "exception": false,
     "start_time": "2021-10-17T18:48:10.439646",
     "status": "completed"
    },
    "tags": []
   },
   "outputs": [],
   "source": [
    "mnist = pd.concat([mnist_train, mnist_test]).reset_index(drop=True)\n",
    "labels = mnist['label'].values\n",
    "mnist.drop('label', axis=1, inplace=True)\n",
    "mnist.columns = cols"
   ]
  },
  {
   "cell_type": "code",
   "execution_count": 7,
   "id": "0cac662e",
   "metadata": {
    "execution": {
     "iopub.execute_input": "2021-10-17T18:48:11.199936Z",
     "iopub.status.busy": "2021-10-17T18:48:11.194380Z",
     "iopub.status.idle": "2021-10-17T18:48:20.248980Z",
     "shell.execute_reply": "2021-10-17T18:48:20.247519Z",
     "shell.execute_reply.started": "2021-09-15T14:29:38.204713Z"
    },
    "papermill": {
     "duration": 9.083201,
     "end_time": "2021-10-17T18:48:20.249203",
     "exception": false,
     "start_time": "2021-10-17T18:48:11.166002",
     "status": "completed"
    },
    "tags": []
   },
   "outputs": [],
   "source": [
    "idx_mnist = mnist.sort_values(by=list(mnist.columns)).index\n",
    "dataset_from = dataset.sort_values(by=list(mnist.columns))['dataset'].values\n",
    "original_idx = dataset.sort_values(by=list(mnist.columns))['index'].values"
   ]
  },
  {
   "cell_type": "code",
   "execution_count": 8,
   "id": "f73d1319",
   "metadata": {
    "execution": {
     "iopub.execute_input": "2021-10-17T18:48:20.277705Z",
     "iopub.status.busy": "2021-10-17T18:48:20.276639Z",
     "iopub.status.idle": "2021-10-17T18:48:22.349276Z",
     "shell.execute_reply": "2021-10-17T18:48:22.349791Z",
     "shell.execute_reply.started": "2021-09-15T14:29:46.398596Z"
    },
    "papermill": {
     "duration": 2.091247,
     "end_time": "2021-10-17T18:48:22.349982",
     "exception": false,
     "start_time": "2021-10-17T18:48:20.258735",
     "status": "completed"
    },
    "tags": []
   },
   "outputs": [],
   "source": [
    "for i in range(len(idx_mnist)):\n",
    "    if dataset_from[i] == 'test':\n",
    "        submission.loc[original_idx[i], 'Label'] = labels[idx_mnist[i]]"
   ]
  },
  {
   "cell_type": "code",
   "execution_count": 9,
   "id": "bf63bd8c",
   "metadata": {
    "execution": {
     "iopub.execute_input": "2021-10-17T18:48:22.373660Z",
     "iopub.status.busy": "2021-10-17T18:48:22.371445Z",
     "iopub.status.idle": "2021-10-17T18:48:22.393539Z",
     "shell.execute_reply": "2021-10-17T18:48:22.392809Z",
     "shell.execute_reply.started": "2021-09-15T14:29:48.057344Z"
    },
    "papermill": {
     "duration": 0.034397,
     "end_time": "2021-10-17T18:48:22.393683",
     "exception": false,
     "start_time": "2021-10-17T18:48:22.359286",
     "status": "completed"
    },
    "tags": []
   },
   "outputs": [
    {
     "data": {
      "text/html": [
       "<div>\n",
       "<style scoped>\n",
       "    .dataframe tbody tr th:only-of-type {\n",
       "        vertical-align: middle;\n",
       "    }\n",
       "\n",
       "    .dataframe tbody tr th {\n",
       "        vertical-align: top;\n",
       "    }\n",
       "\n",
       "    .dataframe thead th {\n",
       "        text-align: right;\n",
       "    }\n",
       "</style>\n",
       "<table border=\"1\" class=\"dataframe\">\n",
       "  <thead>\n",
       "    <tr style=\"text-align: right;\">\n",
       "      <th></th>\n",
       "      <th>ImageId</th>\n",
       "      <th>Label</th>\n",
       "    </tr>\n",
       "  </thead>\n",
       "  <tbody>\n",
       "    <tr>\n",
       "      <th>0</th>\n",
       "      <td>1</td>\n",
       "      <td>2</td>\n",
       "    </tr>\n",
       "    <tr>\n",
       "      <th>1</th>\n",
       "      <td>2</td>\n",
       "      <td>0</td>\n",
       "    </tr>\n",
       "    <tr>\n",
       "      <th>2</th>\n",
       "      <td>3</td>\n",
       "      <td>9</td>\n",
       "    </tr>\n",
       "    <tr>\n",
       "      <th>3</th>\n",
       "      <td>4</td>\n",
       "      <td>0</td>\n",
       "    </tr>\n",
       "    <tr>\n",
       "      <th>4</th>\n",
       "      <td>5</td>\n",
       "      <td>3</td>\n",
       "    </tr>\n",
       "    <tr>\n",
       "      <th>...</th>\n",
       "      <td>...</td>\n",
       "      <td>...</td>\n",
       "    </tr>\n",
       "    <tr>\n",
       "      <th>27995</th>\n",
       "      <td>27996</td>\n",
       "      <td>9</td>\n",
       "    </tr>\n",
       "    <tr>\n",
       "      <th>27996</th>\n",
       "      <td>27997</td>\n",
       "      <td>7</td>\n",
       "    </tr>\n",
       "    <tr>\n",
       "      <th>27997</th>\n",
       "      <td>27998</td>\n",
       "      <td>3</td>\n",
       "    </tr>\n",
       "    <tr>\n",
       "      <th>27998</th>\n",
       "      <td>27999</td>\n",
       "      <td>9</td>\n",
       "    </tr>\n",
       "    <tr>\n",
       "      <th>27999</th>\n",
       "      <td>28000</td>\n",
       "      <td>2</td>\n",
       "    </tr>\n",
       "  </tbody>\n",
       "</table>\n",
       "<p>28000 rows × 2 columns</p>\n",
       "</div>"
      ],
      "text/plain": [
       "       ImageId  Label\n",
       "0            1      2\n",
       "1            2      0\n",
       "2            3      9\n",
       "3            4      0\n",
       "4            5      3\n",
       "...        ...    ...\n",
       "27995    27996      9\n",
       "27996    27997      7\n",
       "27997    27998      3\n",
       "27998    27999      9\n",
       "27999    28000      2\n",
       "\n",
       "[28000 rows x 2 columns]"
      ]
     },
     "execution_count": 9,
     "metadata": {},
     "output_type": "execute_result"
    }
   ],
   "source": [
    "submission"
   ]
  },
  {
   "cell_type": "code",
   "execution_count": 10,
   "id": "5cee714f",
   "metadata": {
    "execution": {
     "iopub.execute_input": "2021-10-17T18:48:22.419620Z",
     "iopub.status.busy": "2021-10-17T18:48:22.418709Z",
     "iopub.status.idle": "2021-10-17T18:48:22.474101Z",
     "shell.execute_reply": "2021-10-17T18:48:22.474614Z",
     "shell.execute_reply.started": "2021-09-15T14:29:48.074681Z"
    },
    "papermill": {
     "duration": 0.070881,
     "end_time": "2021-10-17T18:48:22.474809",
     "exception": false,
     "start_time": "2021-10-17T18:48:22.403928",
     "status": "completed"
    },
    "tags": []
   },
   "outputs": [],
   "source": [
    "submission.to_csv('submission.csv', index=False)"
   ]
  }
 ],
 "metadata": {
  "kernelspec": {
   "display_name": "Python 3",
   "language": "python",
   "name": "python3"
  },
  "language_info": {
   "codemirror_mode": {
    "name": "ipython",
    "version": 3
   },
   "file_extension": ".py",
   "mimetype": "text/x-python",
   "name": "python",
   "nbconvert_exporter": "python",
   "pygments_lexer": "ipython3",
   "version": "3.7.10"
  },
  "papermill": {
   "default_parameters": {},
   "duration": 34.456264,
   "end_time": "2021-10-17T18:48:23.096400",
   "environment_variables": {},
   "exception": null,
   "input_path": "__notebook__.ipynb",
   "output_path": "__notebook__.ipynb",
   "parameters": {},
   "start_time": "2021-10-17T18:47:48.640136",
   "version": "2.3.3"
  }
 },
 "nbformat": 4,
 "nbformat_minor": 5
}
